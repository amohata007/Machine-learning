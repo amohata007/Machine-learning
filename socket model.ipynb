{
 "cells": [
  {
   "cell_type": "code", 
   "execution_count": null,
   "metadata": {},
   "outputs": [],
   "source": [
    "import socket\n",
    "import pyttsx3\n",
    "import speech_recognition  as sr"
   ]
  },
  {
   "cell_type": "code",
   "execution_count": null,
   "metadata": {},
   "outputs": [],
   "source": [
    "s=socket.socket()"
   ]
  },
  {
   "cell_type": "code",
   "execution_count": null,
   "metadata": {},
   "outputs": [],
   "source": [
    "s.connect((\"192.168.43.187\",12345))"
   ]
  },
  {
   "cell_type": "code",
   "execution_count": null,
   "metadata": {},
   "outputs": [],
   "source": [
    "print(\"\"\"press 1 : Hadoop cluster configuration\n",
    "         press 2 : Docker\n",
    "         press 3 : Create a cloud storage\"\"\")\n",
    "\n",
    "print(\"enter your choice\")\n"
   ]
  },
  {
   "cell_type": "code",
   "execution_count": null,
   "metadata": {},
   "outputs": [],
   "source": [
    "speaker = pyttsx3.init()\n",
    "speaker.say(\"\"\"press 1 : Hadoop cluster configuration\n",
    "         press 2 : Docker\n",
    "         press 3 : Create a cloud storage\"\"\")\n",
    "speaker.say(\"Enter your choice\")\n",
    "speaker.runAndWait()"
   ]
  },
  {
   "cell_type": "code",
   "execution_count": null,
   "metadata": {},
   "outputs": [],
   "source": [
    "mic  =  sr.Microphone()\n",
    "r = sr.Recognizer()"
   ]
  },
  {
   "cell_type": "code",
   "execution_count": null,
   "metadata": {},
   "outputs": [],
   "source": [
    "with mic as source:\n",
    "    print(\"say :\")\n",
    "    audio = r.listen(source)\n",
    "    text = r.recognize_google(audio)\n",
    "    print(text)"
   ]
  },
  {
   "cell_type": "code",
   "execution_count": null,
   "metadata": {},
   "outputs": [],
   "source": [
    "speaker = pyttsx3.init()\n",
    "#if text==\"1\":\n",
    "    \n",
    "if \"execute\" and \"hadoop\" in text  or \"install\" and \"hadoop\" in text:\n",
    "    print(\"Enter the ip of Master node\")\n",
    "    \n",
    "    master_ipadd=input()\n",
    "    mip=master_ipadd.encode()\n",
    "    s.send(mip)\n",
    "    print(\"Enter the no of slaves\")\n",
    "    n=input()\n",
    "    n1=n.encode()\n",
    "    s.send(n1)\n",
    "    no=int(n)\n",
    "    #l=[]\n",
    "    for i in range(no):\n",
    "        print(\"enter ip of slave\")\n",
    "        sip=input()\n",
    "        sip=sip.encode()\n",
    "        s.send(sip)\n",
    "    print(\"enter the ip of job tracker\")\n",
    "    job_ipadd=input()\n",
    "    jip=job_ipadd.encode()\n",
    "    s.send(jip)\n",
    "    print(\"enter the ip of client\")\n",
    "    client_ipadd=input()\n",
    "    cip=client_ipadd.encode()\n",
    "    s.send(cip)\n",
    "    \n",
    "    speaker.say(\"\"\"welcome to hadoop automation tool\n",
    "    please wait, configuring hadoop cluster\"\"\")\n",
    "    text=text.encode()\n",
    "    s.send(text)\n",
    "    \n",
    "    \n",
    "elif text==\"2\":\n",
    "    speaker.say(\" press 1: Docker\")\n",
    "elif text == \"3\":\n",
    "    speaker.say(\" press 1: Web server\")\n",
    "else:\n",
    "    speaker.say(\"invalid option\")\n",
    "speaker.runAndWait()"
   ]
  },
  {
   "cell_type": "code",
   "execution_count": null,
   "metadata": {},
   "outputs": [],
   "source": [
    "mic  =  sr.Microphone()\n",
    "r = sr.Recognizer()\n"
   ]
  },
  {
   "cell_type": "code",
   "execution_count": null,
   "metadata": {},
   "outputs": [],
   "source": [
    "with mic as source:\n",
    "    print(\"say :\")\n",
    "    audio = r.listen(source)\n",
    "    option = r.recognize_google(audio)\n",
    "    print(option)"
   ]
  },
  {
   "cell_type": "code",
   "execution_count": null,
   "metadata": {},
   "outputs": [],
   "source": [
    "#t=int(text)\n",
    "t=option.encode()\n",
    "s.send(t)"
   ]
  },
  {
   "cell_type": "code",
   "execution_count": null,
   "metadata": {},
   "outputs": [],
   "source": []
  },
  {
   "cell_type": "code",
   "execution_count": null,
   "metadata": {},
   "outputs": [],
   "source": []
  },
  {
   "cell_type": "code",
   "execution_count": null,
   "metadata": {},
   "outputs": [],
   "source": [
    "\n",
    "\n",
    "ch = input()\n",
    "cmd = ch.encode()\n",
    "s.send(cmd)"
   ]
  },
  {
   "cell_type": "code",
   "execution_count": null,
   "metadata": {},
   "outputs": [],
   "source": []
  }
 ],
 "metadata": {
  "kernelspec": {
   "display_name": "Python 3",
   "language": "python",
   "name": "python3"
  },
  "language_info": {
   "codemirror_mode": {
    "name": "ipython",
    "version": 3
   },
   "file_extension": ".py",
   "mimetype": "text/x-python",
   "name": "python",
   "nbconvert_exporter": "python",
   "pygments_lexer": "ipython3",
   "version": "3.6.4"
  }
 },
 "nbformat": 4,
 "nbformat_minor": 2
}
